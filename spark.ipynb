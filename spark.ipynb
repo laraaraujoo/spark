{
  "nbformat": 4,
  "nbformat_minor": 0,
  "metadata": {
    "colab": {
      "provenance": [],
      "authorship_tag": "ABX9TyNWQapbsvcMy7/1X0g/nJHA",
      "include_colab_link": true
    },
    "kernelspec": {
      "name": "python3",
      "display_name": "Python 3"
    },
    "language_info": {
      "name": "python"
    }
  },
  "cells": [
    {
      "cell_type": "markdown",
      "metadata": {
        "id": "view-in-github",
        "colab_type": "text"
      },
      "source": [
        "<a href=\"https://colab.research.google.com/github/laraaraujoo/spark/blob/main/spark.ipynb\" target=\"_parent\"><img src=\"https://colab.research.google.com/assets/colab-badge.svg\" alt=\"Open In Colab\"/></a>"
      ]
    },
    {
      "cell_type": "markdown",
      "source": [
        "Baixando as **libs**"
      ],
      "metadata": {
        "id": "fTzM-DmJzr2F"
      }
    },
    {
      "cell_type": "code",
      "source": [
        "pip install spark"
      ],
      "metadata": {
        "colab": {
          "base_uri": "https://localhost:8080/"
        },
        "collapsed": true,
        "id": "fR37Yqmdxw_1",
        "outputId": "d58de74d-d58d-43c0-aa17-d089762ee149"
      },
      "execution_count": 2,
      "outputs": [
        {
          "output_type": "stream",
          "name": "stdout",
          "text": [
            "Collecting spark\n",
            "  Downloading spark-0.2.1.tar.gz (41 kB)\n",
            "\u001b[?25l     \u001b[90m━━━━━━━━━━━━━━━━━━━━━━━━━━━━━━━━━━━━━━━━\u001b[0m \u001b[32m0.0/41.0 kB\u001b[0m \u001b[31m?\u001b[0m eta \u001b[36m-:--:--\u001b[0m\r\u001b[2K     \u001b[90m━━━━━━━━━━━━━━━━━━━━━━━━━━━━━━━━━━━━━━━━\u001b[0m \u001b[32m41.0/41.0 kB\u001b[0m \u001b[31m1.2 MB/s\u001b[0m eta \u001b[36m0:00:00\u001b[0m\n",
            "\u001b[?25h  Preparing metadata (setup.py) ... \u001b[?25l\u001b[?25hdone\n",
            "Building wheels for collected packages: spark\n",
            "  Building wheel for spark (setup.py) ... \u001b[?25l\u001b[?25hdone\n",
            "  Created wheel for spark: filename=spark-0.2.1-py3-none-any.whl size=58748 sha256=bc038e6a809e273b32bd1a3588582714daa1bbb9fce16e7fc86f1293870449af\n",
            "  Stored in directory: /root/.cache/pip/wheels/63/88/77/b4131110ea4094540f7b47c6d62a649807d7e94800da5eab0b\n",
            "Successfully built spark\n",
            "Installing collected packages: spark\n",
            "Successfully installed spark-0.2.1\n"
          ]
        }
      ]
    },
    {
      "cell_type": "code",
      "execution_count": 1,
      "metadata": {
        "colab": {
          "base_uri": "https://localhost:8080/"
        },
        "collapsed": true,
        "id": "C0qHuMnrxrAZ",
        "outputId": "2131204b-b6a1-4107-b74e-d3c7506a74d2"
      },
      "outputs": [
        {
          "output_type": "stream",
          "name": "stdout",
          "text": [
            "Requirement already satisfied: matplotlib in /usr/local/lib/python3.10/dist-packages (3.7.1)\n",
            "Requirement already satisfied: contourpy>=1.0.1 in /usr/local/lib/python3.10/dist-packages (from matplotlib) (1.3.0)\n",
            "Requirement already satisfied: cycler>=0.10 in /usr/local/lib/python3.10/dist-packages (from matplotlib) (0.12.1)\n",
            "Requirement already satisfied: fonttools>=4.22.0 in /usr/local/lib/python3.10/dist-packages (from matplotlib) (4.54.1)\n",
            "Requirement already satisfied: kiwisolver>=1.0.1 in /usr/local/lib/python3.10/dist-packages (from matplotlib) (1.4.7)\n",
            "Requirement already satisfied: numpy>=1.20 in /usr/local/lib/python3.10/dist-packages (from matplotlib) (1.26.4)\n",
            "Requirement already satisfied: packaging>=20.0 in /usr/local/lib/python3.10/dist-packages (from matplotlib) (24.1)\n",
            "Requirement already satisfied: pillow>=6.2.0 in /usr/local/lib/python3.10/dist-packages (from matplotlib) (10.4.0)\n",
            "Requirement already satisfied: pyparsing>=2.3.1 in /usr/local/lib/python3.10/dist-packages (from matplotlib) (3.2.0)\n",
            "Requirement already satisfied: python-dateutil>=2.7 in /usr/local/lib/python3.10/dist-packages (from matplotlib) (2.8.2)\n",
            "Requirement already satisfied: six>=1.5 in /usr/local/lib/python3.10/dist-packages (from python-dateutil>=2.7->matplotlib) (1.16.0)\n"
          ]
        }
      ],
      "source": [
        "pip install matplotlib"
      ]
    },
    {
      "cell_type": "markdown",
      "source": [
        "Importando as **libs** e **funções**"
      ],
      "metadata": {
        "id": "hH5NJYvdzvUx"
      }
    },
    {
      "cell_type": "code",
      "source": [
        "import matplotlib.pyplot as plt\n",
        "from pyspark.sql import *\n",
        "from pyspark.sql.functions import *\n",
        "from pyspark.sql import functions as F\n",
        "import spark\n",
        "from pyspark.sql import SparkSession\n",
        "import pandas as pd"
      ],
      "metadata": {
        "id": "jR1ltPv2x038"
      },
      "execution_count": 54,
      "outputs": []
    },
    {
      "cell_type": "markdown",
      "source": [
        "**SparkSession**\n",
        "- Permite trabalhar com DataFrames e outras funcionalidades do Spark.\n",
        "É uma etapa necessária antes de qualquer operação com PySpark."
      ],
      "metadata": {
        "id": "sgoB8pnx0hgc"
      }
    },
    {
      "cell_type": "code",
      "source": [
        "spark = SparkSession.builder \\\n",
        "    .appName(\"Exemplo em spark\") \\\n",
        "    .getOrCreate()\n"
      ],
      "metadata": {
        "id": "MNbAvEV70fK-"
      },
      "execution_count": 17,
      "outputs": []
    },
    {
      "cell_type": "markdown",
      "source": [
        "Criando os **dados**"
      ],
      "metadata": {
        "id": "FKHDxCE4zynG"
      }
    },
    {
      "cell_type": "code",
      "source": [
        "data = [\n",
        "    (\"Alice\", 20, 'F'),\n",
        "    (\"Bob\", 50, 'M'),\n",
        "    (\"Charlie\", 30, 'M'),\n",
        "    (\"Catherine\", 12, 'F'),\n",
        "    (\"Edward\", 11, 'M'),\n",
        "    (\"David\", 10,'M'),\n",
        "    (\"Michelle\", 40, 'F'),\n",
        "    (\"Raphael\",35,'M'),\n",
        "    (\"Matheus\", 39,'M'),\n",
        "    (\"Rosa\",52, 'F')\n",
        "]\n"
      ],
      "metadata": {
        "id": "veEom2A1yPZ5"
      },
      "execution_count": 18,
      "outputs": []
    },
    {
      "cell_type": "markdown",
      "source": [
        "Criando as **colunas**"
      ],
      "metadata": {
        "id": "78YZmJ_yz14y"
      }
    },
    {
      "cell_type": "code",
      "source": [
        "columns = [\"Nome\", \"Idade\",\"Sexo\"]"
      ],
      "metadata": {
        "id": "xUHOdwpxzked"
      },
      "execution_count": 19,
      "outputs": []
    },
    {
      "cell_type": "markdown",
      "source": [
        "Criando o **dataframe** com os **dados** e as **colunas**"
      ],
      "metadata": {
        "id": "aEd39jl0z4gA"
      }
    },
    {
      "cell_type": "code",
      "source": [
        "df = spark.createDataFrame(data, schema=columns)"
      ],
      "metadata": {
        "id": "N-Z7hC3ozovq"
      },
      "execution_count": 20,
      "outputs": []
    },
    {
      "cell_type": "markdown",
      "source": [
        "Visualizando o **dataframe** que acabamos de criar"
      ],
      "metadata": {
        "id": "DkMIKVRqz8fz"
      }
    },
    {
      "cell_type": "code",
      "source": [
        "df.show()"
      ],
      "metadata": {
        "colab": {
          "base_uri": "https://localhost:8080/"
        },
        "id": "-DgkcMk90CR1",
        "outputId": "217d2070-4e68-488a-d3ad-cc1087d0064a"
      },
      "execution_count": 23,
      "outputs": [
        {
          "output_type": "stream",
          "name": "stdout",
          "text": [
            "+---------+-----+----+\n",
            "|     Nome|Idade|Sexo|\n",
            "+---------+-----+----+\n",
            "|    Alice|   20|   F|\n",
            "|      Bob|   50|   M|\n",
            "|  Charlie|   30|   M|\n",
            "|Catherine|   12|   F|\n",
            "|   Edward|   11|   M|\n",
            "|    David|   10|   M|\n",
            "| Michelle|   40|   F|\n",
            "|  Raphael|   35|   M|\n",
            "|  Matheus|   39|   M|\n",
            "|     Rosa|   52|   F|\n",
            "+---------+-----+----+\n",
            "\n"
          ]
        }
      ]
    },
    {
      "cell_type": "markdown",
      "source": [
        "Usando uma função em **sql** e **pyspark**"
      ],
      "metadata": {
        "id": "9x18Ybjb1Aji"
      }
    },
    {
      "cell_type": "code",
      "source": [
        "soma_idade = df.agg(F.sum(\"Idade\")).collect()[0][0]\n",
        "display(f'A soma das idades é: {soma_idade}')"
      ],
      "metadata": {
        "colab": {
          "base_uri": "https://localhost:8080/",
          "height": 35
        },
        "id": "8C9NdQvW2pym",
        "outputId": "ff6c1e9a-746e-475d-dae1-72defcb5f899"
      },
      "execution_count": 45,
      "outputs": [
        {
          "output_type": "display_data",
          "data": {
            "text/plain": [
              "'A soma das idades é: 299'"
            ],
            "application/vnd.google.colaboratory.intrinsic+json": {
              "type": "string"
            }
          },
          "metadata": {}
        }
      ]
    },
    {
      "cell_type": "code",
      "source": [
        "media_idades = df.agg(F.avg(\"Idade\")).collect()[0][0]\n",
        "display(f'A média das idades é: {int(media_idades)}')"
      ],
      "metadata": {
        "colab": {
          "base_uri": "https://localhost:8080/",
          "height": 35
        },
        "id": "P5eUXBYI-BBn",
        "outputId": "05c29885-61e5-4f09-e9e8-a3219d022960"
      },
      "execution_count": 61,
      "outputs": [
        {
          "output_type": "display_data",
          "data": {
            "text/plain": [
              "'A média das idades é: 29'"
            ],
            "application/vnd.google.colaboratory.intrinsic+json": {
              "type": "string"
            }
          },
          "metadata": {}
        }
      ]
    },
    {
      "cell_type": "markdown",
      "source": [
        "Fazendo a soma dos gêneros, transformando em **Pandas** e plotando no gráfico de barras."
      ],
      "metadata": {
        "id": "79A8iWxy5FGU"
      }
    },
    {
      "cell_type": "code",
      "source": [
        "sexo_counts = df.groupBy(\"Sexo\").count()\n",
        "sexo_counts = sexo_counts.toPandas()\n",
        "\n",
        "\n",
        "sexo_counts.plot(x=\"Sexo\", y=\"count\",kind='bar', color='blue')\n",
        "plt.xlabel('Sexo')\n",
        "plt.title('Contagem de Indivíduos por Sexo')\n",
        "plt.xticks(rotation=0)\n",
        "plt.show()"
      ],
      "metadata": {
        "colab": {
          "base_uri": "https://localhost:8080/",
          "height": 472
        },
        "id": "V6SMk13m3tj3",
        "outputId": "c95d665d-db9f-4dc3-d27f-03dedcbb1126"
      },
      "execution_count": 58,
      "outputs": [
        {
          "output_type": "display_data",
          "data": {
            "text/plain": [
              "<Figure size 640x480 with 1 Axes>"
            ],
            "image/png": "[encoded data removed]"
          },
          "metadata": {}
        }
      ]
    },
    {
      "cell_type": "markdown",
      "source": [
        "Historiograma é para visualizar a distribuição das idades"
      ],
      "metadata": {
        "id": "qJ4UC4tT-nmS"
      }
    },
    {
      "cell_type": "code",
      "source": [
        "idades = df.select(\"Idade\").rdd.flatMap(lambda x: x).collect()\n",
        "plt.hist(idades, bins=10, edgecolor='black')\n",
        "plt.title('Histograma das Idades')\n",
        "plt.xlabel('Idade')\n",
        "plt.ylabel('Frequência')\n",
        "plt.show()\n"
      ],
      "metadata": {
        "colab": {
          "base_uri": "https://localhost:8080/",
          "height": 472
        },
        "id": "V5uCWE52-WzX",
        "outputId": "dc2fefcc-b402-4f86-ef7c-074138feea9b"
      },
      "execution_count": 62,
      "outputs": [
        {
          "output_type": "display_data",
          "data": {
            "text/plain": [
              "<Figure size 640x480 with 1 Axes>"
            ],
            "image/png": "[encoded data removed]"
          },
          "metadata": {}
        }
      ]
    },
    {
      "cell_type": "markdown",
      "source": [
        "Proporção dos generos plotados no gráfico de pizza.\n",
        "- Agrupando e somando os gêneros\n",
        "- Extraindo os dados para listas\n",
        "- Plotando no gráfico"
      ],
      "metadata": {
        "id": "jIoXZwwE_Mno"
      }
    },
    {
      "cell_type": "code",
      "source": [
        "genero_counts = df.groupBy(\"Sexo\").count().collect()\n",
        "\n",
        "# Extrai os dados para listas\n",
        "generos = [row['Sexo'] for row in genero_counts]\n",
        "counts = [row['count'] for row in genero_counts]\n",
        "\n",
        "plt.pie(counts, labels=generos, autopct='%1.1f%%', startangle=90)\n",
        "plt.title('Proporção de Gêneros')\n",
        "plt.axis('equal')\n",
        "plt.show()"
      ],
      "metadata": {
        "colab": {
          "base_uri": "https://localhost:8080/",
          "height": 429
        },
        "id": "HYns8i0F-yaX",
        "outputId": "ae6e1c17-488d-45be-a2c0-564855c05461"
      },
      "execution_count": 66,
      "outputs": [
        {
          "output_type": "display_data",
          "data": {
            "text/plain": [
              "<Figure size 640x480 with 1 Axes>"
            ],
            "image/png": "[encoded data removed]"
          },
          "metadata": {}
        }
      ]
    }
  ]
}